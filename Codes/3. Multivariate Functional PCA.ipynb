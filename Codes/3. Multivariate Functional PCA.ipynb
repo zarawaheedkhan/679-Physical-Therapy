{
 "cells": [
  {
   "cell_type": "markdown",
   "metadata": {},
   "source": [
    "\n",
    "# Multivariate Functional Principal Components Analysis\n",
    "\n",
    "This notebook shows how to perform an multivariate functional principal\n",
    "components analysis on an example dataset.\n"
   ]
  },
  {
   "cell_type": "code",
   "execution_count": 41,
   "metadata": {
    "scrolled": true
   },
   "outputs": [],
   "source": [
    "# Author: Zara Waheed <zara95@bu.edu>\n",
    "# License: MIT\n",
    "\n",
    "import matplotlib.pyplot as plt\n",
    "import pandas as pd\n",
    "\n",
    "from FDApy.representation.functional_data import MultivariateFunctionalData\n",
    "from FDApy.preprocessing.dim_reduction.fpca import MFPCA\n",
    "from FDApy.visualization.plot import plot\n",
    "from FDApy.misc.loader import read_csv\n",
    "import numpy as np"
   ]
  },
  {
   "cell_type": "code",
   "execution_count": 16,
   "metadata": {},
   "outputs": [],
   "source": [
    "def wf(x):\n",
    "    return '/Users/zarawaheed/Documents/BostonUniversity/MA679/Final Project/Data/Raw/' + x"
   ]
  },
  {
   "cell_type": "markdown",
   "metadata": {},
   "source": [
    "Load the data as DenseFunctionalData.\n",
    "\n"
   ]
  },
  {
   "cell_type": "code",
   "execution_count": 17,
   "metadata": {},
   "outputs": [],
   "source": [
    "V_GRF_stance_N = read_csv(wf('V_GRF_stance_N.csv'))\n",
    "ML_GRF_stance_N = read_csv(wf('ML_GRF_stance_N.csv'))\n",
    "AP_GRF_stance_N = read_csv(wf('AP_GRF_stance_N.csv'))\n",
    "\n",
    "#ML_GRF_stance_N = ML_GRF_stance_N.reset_index()\n",
    "#AP_GRF_stance_N = AP_GRF_stance_N.reset_index()"
   ]
  },
  {
   "cell_type": "code",
   "execution_count": 18,
   "metadata": {},
   "outputs": [],
   "source": [
    "# Create multivariate functional data\n",
    "\n",
    "GRF = MultivariateFunctionalData([ML_GRF_stance_N, AP_GRF_stance_N, V_GRF_stance_N])"
   ]
  },
  {
   "cell_type": "markdown",
   "metadata": {},
   "source": [
    "Perform a multivariate functional PCA and explore the results.\n",
    "\n"
   ]
  },
  {
   "cell_type": "code",
   "execution_count": null,
   "metadata": {
    "scrolled": true
   },
   "outputs": [],
   "source": [
    "# Perform multivariate FPCA\n",
    "\n",
    "mfpca = MFPCA(n_components = [4, 3, 3])\n",
    "# n_components is number of components to keep for each functions in data\n",
    "\n",
    "mfpca.fit(GRF, method='NumInt')\n",
    "# other method = PACE \n",
    "\n",
    "# Plot the results of the FPCA (eigenfunctions)\n",
    "fig, (ax1, ax2, ax3) = plt.subplots(3, 1, figsize=(8,6))\n",
    "_ = plot(mfpca.basis[0], ax=ax1)\n",
    "_.set_ylabel('ML_GRF')\n",
    "_ = plot(mfpca.basis[1], ax=ax2)\n",
    "_.set_ylabel('AP_GRF')\n",
    "_ = plot(mfpca.basis[2], ax=ax3)\n",
    "_.set_ylabel('V_GRF')\n",
    "_.set_xlabel('Time')\n",
    "ax1.set_title('MFPCA plot with 10 Principal Components', fontstyle='italic')\n",
    "\n",
    "fig.savefig('/Users/zarawaheed/Documents/BostonUniversity/MA679/Final Project/Data/Processed/Plots/MFPCA_combined.png', dpi=300)\n"
   ]
  },
  {
   "cell_type": "code",
   "execution_count": null,
   "metadata": {},
   "outputs": [],
   "source": [
    "# mfpca.basis"
   ]
  },
  {
   "cell_type": "markdown",
   "metadata": {},
   "source": [
    "Compute the scores of the dailyTemp data into the eigenfunctions basis using\n",
    "numerical integration.\n",
    "\n"
   ]
  },
  {
   "cell_type": "code",
   "execution_count": null,
   "metadata": {},
   "outputs": [],
   "source": [
    "# Compute the scores\n",
    "GRF_proj = mfpca.transform(GRF)\n",
    "\n",
    "# Plot the projection of the data onto the eigenfunctions\n",
    "fig = pd.plotting.scatter_matrix(pd.DataFrame(GRF_proj), diagonal='kde', figsize=(15, 15))\n",
    "plt.savefig('/Users/zarawaheed/Documents/BostonUniversity/MA679/Final Project/Data/Processed/MFPCA_scatter_matrix.png', dpi=300)"
   ]
  },
  {
   "cell_type": "markdown",
   "metadata": {},
   "source": [
    "Then, we can test if the reconstruction of the data is good.\n",
    "\n"
   ]
  },
  {
   "cell_type": "code",
   "execution_count": null,
   "metadata": {},
   "outputs": [],
   "source": [
    "# Test if the reconstruction is good.\n",
    "GRF_reconst = mfpca.inverse_transform(GRF_proj)\n",
    "\n",
    "# Plot the reconstructed curves\n",
    "fig, (ax1, ax2, ax3) = plt.subplots(3, 1, figsize = (15,12))\n",
    "_ = plot(GRF_reconst[0], ax=ax1)\n",
    "_.set_ylabel('GRF_ML')\n",
    "_ = plot(GRF_reconst[1], ax=ax2)\n",
    "_.set_ylabel('GRF_AP')\n",
    "_ = plot(GRF_reconst[2], ax=ax3)\n",
    "_.set_ylabel('GRF_V')\n",
    "_.set_xlabel('Time')\n",
    "ax1.set_title('MFPCA Reconstructed Data with 8 Principal Components', fontstyle='italic')\n",
    "fig.savefig('/Users/zarawaheed/Documents/BostonUniversity/MA679/Final Project/Data/Processed/MFPCA_reconstructed_plot.png', dpi=300)"
   ]
  },
  {
   "cell_type": "markdown",
   "metadata": {},
   "source": [
    "### Calculate MSE and TSS"
   ]
  },
  {
   "cell_type": "code",
   "execution_count": 19,
   "metadata": {},
   "outputs": [],
   "source": [
    "# Define function for MSE\n",
    "\n",
    "def mse(array1,array2):\n",
    "    diff = array1 - array2\n",
    "    sqdiff = diff**2\n",
    "    n = len(sqdiff)\n",
    "    \n",
    "    sum_sqdiff = sum(sqdiff)\n",
    "    return sum_sqdiff/n"
   ]
  },
  {
   "cell_type": "code",
   "execution_count": null,
   "metadata": {},
   "outputs": [],
   "source": [
    "# Define function for TSS\n",
    "\n",
    "def tss(array1,array2):\n",
    "    diff = array1 - array2\n",
    "    sqdiff = diff**2\n",
    "    n = len(sqdiff)\n",
    "    \n",
    "    sum_sqdiff = sum(sqdiff)\n",
    "    return sum_sqdiff/n"
   ]
  },
  {
   "cell_type": "code",
   "execution_count": 20,
   "metadata": {},
   "outputs": [],
   "source": [
    "# define number on components\n",
    "\n",
    "n = 8"
   ]
  },
  {
   "cell_type": "code",
   "execution_count": 127,
   "metadata": {},
   "outputs": [],
   "source": [
    "# run mfpca\n",
    "\n",
    "mfpca = MFPCA(n_components = [2, 2, 2])\n",
    "mfpca.fit(GRF, method='NumInt')\n",
    "GRF_reconst = mfpca.inverse_transform(mfpca.transform(GRF))"
   ]
  },
  {
   "cell_type": "code",
   "execution_count": 128,
   "metadata": {},
   "outputs": [],
   "source": [
    "# Create datasets\n",
    "\n",
    "# create ML_GRF reconstructed and original data array\n",
    "ML_GRF_reconst = pd.DataFrame(GRF_reconst[0].values)\n",
    "ML_GRF_reconst_array = ML_GRF_reconst.values.flatten()\n",
    "\n",
    "ML_GRF_df = pd.DataFrame(ML_GRF_stance_N.values)\n",
    "ML_GRF_array = ML_GRF_df.values.flatten()\n",
    "    \n",
    "ML_mean = sum(ML_GRF_array)/len(ML_GRF_array)\n",
    "ML_mean_array = np.full(shape=1569500,fill_value=ML_mean)\n",
    "    \n",
    "# create AP_GRF reconstructed and original data array\n",
    "AP_GRF_reconst = pd.DataFrame(GRF_reconst[1].values)\n",
    "AP_GRF_reconst_array = AP_GRF_reconst.values.flatten()\n",
    "\n",
    "AP_GRF_df = pd.DataFrame(AP_GRF_stance_N.values)\n",
    "AP_GRF_array = AP_GRF_df.values.flatten()\n",
    "    \n",
    "AP_mean = sum(AP_GRF_array)/len(AP_GRF_array)\n",
    "AP_mean_array = np.full(shape=1569500,fill_value=AP_mean)\n",
    "    \n",
    "# create V_GRF reconstructed and original data array\n",
    "V_GRF_reconst = pd.DataFrame(GRF_reconst[2].values)\n",
    "V_GRF_reconst_array = V_GRF_reconst.values.flatten()\n",
    "\n",
    "V_GRF_df = pd.DataFrame(V_GRF_stance_N.values)\n",
    "V_GRF_array = V_GRF_df.values.flatten()\n",
    "    \n",
    "V_mean = sum(V_GRF_array)/len(V_GRF_array)\n",
    "V_mean_array = np.full(shape=1569500,fill_value=V_mean)\n"
   ]
  },
  {
   "cell_type": "code",
   "execution_count": 129,
   "metadata": {},
   "outputs": [],
   "source": [
    "# Calculate mean\n",
    "\n",
    "ML_GRF_mean = round(mse(ML_GRF_array, ML_GRF_reconst_array), 2)\n",
    "AP_GRF_mean = round(mse(AP_GRF_array, AP_GRF_reconst_array), 2)\n",
    "V_GRF_mean = round(mse(V_GRF_array, V_GRF_reconst_array), 2)\n",
    "\n",
    "# Calculate TSS\n",
    "\n",
    "ML_TSS = round(mse(ML_GRF_array, ML_mean_array), 2)\n",
    "AP_TSS = round(mse(AP_GRF_array, AP_mean_array), 2)\n",
    "V_TSS = round(mse(V_GRF_array, V_mean_array), 2)\n",
    "    "
   ]
  },
  {
   "cell_type": "code",
   "execution_count": 130,
   "metadata": {},
   "outputs": [],
   "source": [
    "# Create initial dataset\n",
    "\n",
    "new = pd.DataFrame({'Components' : [2], \n",
    "                    'MSE_ML': [ML_GRF_mean],\n",
    "                    'MSE_AP': [AP_GRF_mean],\n",
    "                    'MSE_V': [V_GRF_mean],\n",
    "                    'TSS_ML': [ML_TSS],\n",
    "                    'TSS_AP': [AP_TSS],\n",
    "                    'TSS_V': [V_TSS]\n",
    "                       })\n",
    "mse_GRF = new\n",
    "#mse_GRF2 = pd.concat([mse_GRF2, new])"
   ]
  },
  {
   "cell_type": "code",
   "execution_count": 124,
   "metadata": {},
   "outputs": [],
   "source": [
    "#mse_GRF2['R_ML'] = round(1 - (mse_GRF2['MSE_ML']/mse_GRF2['TSS_ML']), 2)\n",
    "#mse_GRF2['R_AP'] = round(1 - (mse_GRF2['MSE_AP']/mse_GRF2['TSS_AP']), 2)\n",
    "#mse_GRF2['R_V'] = round(1 - (mse_GRF2['MSE_V']/mse_GRF2['TSS_V']), 2)"
   ]
  },
  {
   "cell_type": "code",
   "execution_count": 131,
   "metadata": {},
   "outputs": [
    {
     "name": "stderr",
     "output_type": "stream",
     "text": [
      "/var/folders/3f/jf0vyw7d5dz_ypqzwp3mnylm0000gn/T/ipykernel_41469/1650186797.py:18: DeprecationWarning: `np.int` is a deprecated alias for the builtin `int`. To silence this warning, use `int` by itself. Doing this will not modify any behavior and is safe. When replacing `np.int`, you may wish to use e.g. `np.int64` or `np.int32` to specify the precision. If you wish to review your current use, check the release note link for additional information.\n",
      "Deprecated in NumPy 1.20; for more details and guidance: https://numpy.org/devdocs/release/1.20.0-notes.html#deprecations\n",
      "  ML_mean_array = np.full(shape=1569500,fill_value=ML_mean, dtype=np.int)\n",
      "/var/folders/3f/jf0vyw7d5dz_ypqzwp3mnylm0000gn/T/ipykernel_41469/1650186797.py:28: DeprecationWarning: `np.int` is a deprecated alias for the builtin `int`. To silence this warning, use `int` by itself. Doing this will not modify any behavior and is safe. When replacing `np.int`, you may wish to use e.g. `np.int64` or `np.int32` to specify the precision. If you wish to review your current use, check the release note link for additional information.\n",
      "Deprecated in NumPy 1.20; for more details and guidance: https://numpy.org/devdocs/release/1.20.0-notes.html#deprecations\n",
      "  AP_mean_array = np.full(shape=1569500,fill_value=AP_mean, dtype=np.int)\n",
      "/var/folders/3f/jf0vyw7d5dz_ypqzwp3mnylm0000gn/T/ipykernel_41469/1650186797.py:38: DeprecationWarning: `np.int` is a deprecated alias for the builtin `int`. To silence this warning, use `int` by itself. Doing this will not modify any behavior and is safe. When replacing `np.int`, you may wish to use e.g. `np.int64` or `np.int32` to specify the precision. If you wish to review your current use, check the release note link for additional information.\n",
      "Deprecated in NumPy 1.20; for more details and guidance: https://numpy.org/devdocs/release/1.20.0-notes.html#deprecations\n",
      "  V_mean_array = np.full(shape=1569500,fill_value=V_mean, dtype=np.int)\n",
      "/var/folders/3f/jf0vyw7d5dz_ypqzwp3mnylm0000gn/T/ipykernel_41469/1650186797.py:18: DeprecationWarning: `np.int` is a deprecated alias for the builtin `int`. To silence this warning, use `int` by itself. Doing this will not modify any behavior and is safe. When replacing `np.int`, you may wish to use e.g. `np.int64` or `np.int32` to specify the precision. If you wish to review your current use, check the release note link for additional information.\n",
      "Deprecated in NumPy 1.20; for more details and guidance: https://numpy.org/devdocs/release/1.20.0-notes.html#deprecations\n",
      "  ML_mean_array = np.full(shape=1569500,fill_value=ML_mean, dtype=np.int)\n",
      "/var/folders/3f/jf0vyw7d5dz_ypqzwp3mnylm0000gn/T/ipykernel_41469/1650186797.py:28: DeprecationWarning: `np.int` is a deprecated alias for the builtin `int`. To silence this warning, use `int` by itself. Doing this will not modify any behavior and is safe. When replacing `np.int`, you may wish to use e.g. `np.int64` or `np.int32` to specify the precision. If you wish to review your current use, check the release note link for additional information.\n",
      "Deprecated in NumPy 1.20; for more details and guidance: https://numpy.org/devdocs/release/1.20.0-notes.html#deprecations\n",
      "  AP_mean_array = np.full(shape=1569500,fill_value=AP_mean, dtype=np.int)\n",
      "/var/folders/3f/jf0vyw7d5dz_ypqzwp3mnylm0000gn/T/ipykernel_41469/1650186797.py:38: DeprecationWarning: `np.int` is a deprecated alias for the builtin `int`. To silence this warning, use `int` by itself. Doing this will not modify any behavior and is safe. When replacing `np.int`, you may wish to use e.g. `np.int64` or `np.int32` to specify the precision. If you wish to review your current use, check the release note link for additional information.\n",
      "Deprecated in NumPy 1.20; for more details and guidance: https://numpy.org/devdocs/release/1.20.0-notes.html#deprecations\n",
      "  V_mean_array = np.full(shape=1569500,fill_value=V_mean, dtype=np.int)\n",
      "/var/folders/3f/jf0vyw7d5dz_ypqzwp3mnylm0000gn/T/ipykernel_41469/1650186797.py:18: DeprecationWarning: `np.int` is a deprecated alias for the builtin `int`. To silence this warning, use `int` by itself. Doing this will not modify any behavior and is safe. When replacing `np.int`, you may wish to use e.g. `np.int64` or `np.int32` to specify the precision. If you wish to review your current use, check the release note link for additional information.\n",
      "Deprecated in NumPy 1.20; for more details and guidance: https://numpy.org/devdocs/release/1.20.0-notes.html#deprecations\n",
      "  ML_mean_array = np.full(shape=1569500,fill_value=ML_mean, dtype=np.int)\n",
      "/var/folders/3f/jf0vyw7d5dz_ypqzwp3mnylm0000gn/T/ipykernel_41469/1650186797.py:28: DeprecationWarning: `np.int` is a deprecated alias for the builtin `int`. To silence this warning, use `int` by itself. Doing this will not modify any behavior and is safe. When replacing `np.int`, you may wish to use e.g. `np.int64` or `np.int32` to specify the precision. If you wish to review your current use, check the release note link for additional information.\n",
      "Deprecated in NumPy 1.20; for more details and guidance: https://numpy.org/devdocs/release/1.20.0-notes.html#deprecations\n",
      "  AP_mean_array = np.full(shape=1569500,fill_value=AP_mean, dtype=np.int)\n",
      "/var/folders/3f/jf0vyw7d5dz_ypqzwp3mnylm0000gn/T/ipykernel_41469/1650186797.py:38: DeprecationWarning: `np.int` is a deprecated alias for the builtin `int`. To silence this warning, use `int` by itself. Doing this will not modify any behavior and is safe. When replacing `np.int`, you may wish to use e.g. `np.int64` or `np.int32` to specify the precision. If you wish to review your current use, check the release note link for additional information.\n",
      "Deprecated in NumPy 1.20; for more details and guidance: https://numpy.org/devdocs/release/1.20.0-notes.html#deprecations\n",
      "  V_mean_array = np.full(shape=1569500,fill_value=V_mean, dtype=np.int)\n",
      "/var/folders/3f/jf0vyw7d5dz_ypqzwp3mnylm0000gn/T/ipykernel_41469/1650186797.py:18: DeprecationWarning: `np.int` is a deprecated alias for the builtin `int`. To silence this warning, use `int` by itself. Doing this will not modify any behavior and is safe. When replacing `np.int`, you may wish to use e.g. `np.int64` or `np.int32` to specify the precision. If you wish to review your current use, check the release note link for additional information.\n",
      "Deprecated in NumPy 1.20; for more details and guidance: https://numpy.org/devdocs/release/1.20.0-notes.html#deprecations\n",
      "  ML_mean_array = np.full(shape=1569500,fill_value=ML_mean, dtype=np.int)\n",
      "/var/folders/3f/jf0vyw7d5dz_ypqzwp3mnylm0000gn/T/ipykernel_41469/1650186797.py:28: DeprecationWarning: `np.int` is a deprecated alias for the builtin `int`. To silence this warning, use `int` by itself. Doing this will not modify any behavior and is safe. When replacing `np.int`, you may wish to use e.g. `np.int64` or `np.int32` to specify the precision. If you wish to review your current use, check the release note link for additional information.\n",
      "Deprecated in NumPy 1.20; for more details and guidance: https://numpy.org/devdocs/release/1.20.0-notes.html#deprecations\n",
      "  AP_mean_array = np.full(shape=1569500,fill_value=AP_mean, dtype=np.int)\n",
      "/var/folders/3f/jf0vyw7d5dz_ypqzwp3mnylm0000gn/T/ipykernel_41469/1650186797.py:38: DeprecationWarning: `np.int` is a deprecated alias for the builtin `int`. To silence this warning, use `int` by itself. Doing this will not modify any behavior and is safe. When replacing `np.int`, you may wish to use e.g. `np.int64` or `np.int32` to specify the precision. If you wish to review your current use, check the release note link for additional information.\n",
      "Deprecated in NumPy 1.20; for more details and guidance: https://numpy.org/devdocs/release/1.20.0-notes.html#deprecations\n",
      "  V_mean_array = np.full(shape=1569500,fill_value=V_mean, dtype=np.int)\n",
      "/var/folders/3f/jf0vyw7d5dz_ypqzwp3mnylm0000gn/T/ipykernel_41469/1650186797.py:18: DeprecationWarning: `np.int` is a deprecated alias for the builtin `int`. To silence this warning, use `int` by itself. Doing this will not modify any behavior and is safe. When replacing `np.int`, you may wish to use e.g. `np.int64` or `np.int32` to specify the precision. If you wish to review your current use, check the release note link for additional information.\n",
      "Deprecated in NumPy 1.20; for more details and guidance: https://numpy.org/devdocs/release/1.20.0-notes.html#deprecations\n",
      "  ML_mean_array = np.full(shape=1569500,fill_value=ML_mean, dtype=np.int)\n",
      "/var/folders/3f/jf0vyw7d5dz_ypqzwp3mnylm0000gn/T/ipykernel_41469/1650186797.py:28: DeprecationWarning: `np.int` is a deprecated alias for the builtin `int`. To silence this warning, use `int` by itself. Doing this will not modify any behavior and is safe. When replacing `np.int`, you may wish to use e.g. `np.int64` or `np.int32` to specify the precision. If you wish to review your current use, check the release note link for additional information.\n",
      "Deprecated in NumPy 1.20; for more details and guidance: https://numpy.org/devdocs/release/1.20.0-notes.html#deprecations\n",
      "  AP_mean_array = np.full(shape=1569500,fill_value=AP_mean, dtype=np.int)\n"
     ]
    },
    {
     "name": "stderr",
     "output_type": "stream",
     "text": [
      "/var/folders/3f/jf0vyw7d5dz_ypqzwp3mnylm0000gn/T/ipykernel_41469/1650186797.py:38: DeprecationWarning: `np.int` is a deprecated alias for the builtin `int`. To silence this warning, use `int` by itself. Doing this will not modify any behavior and is safe. When replacing `np.int`, you may wish to use e.g. `np.int64` or `np.int32` to specify the precision. If you wish to review your current use, check the release note link for additional information.\n",
      "Deprecated in NumPy 1.20; for more details and guidance: https://numpy.org/devdocs/release/1.20.0-notes.html#deprecations\n",
      "  V_mean_array = np.full(shape=1569500,fill_value=V_mean, dtype=np.int)\n",
      "/var/folders/3f/jf0vyw7d5dz_ypqzwp3mnylm0000gn/T/ipykernel_41469/1650186797.py:18: DeprecationWarning: `np.int` is a deprecated alias for the builtin `int`. To silence this warning, use `int` by itself. Doing this will not modify any behavior and is safe. When replacing `np.int`, you may wish to use e.g. `np.int64` or `np.int32` to specify the precision. If you wish to review your current use, check the release note link for additional information.\n",
      "Deprecated in NumPy 1.20; for more details and guidance: https://numpy.org/devdocs/release/1.20.0-notes.html#deprecations\n",
      "  ML_mean_array = np.full(shape=1569500,fill_value=ML_mean, dtype=np.int)\n",
      "/var/folders/3f/jf0vyw7d5dz_ypqzwp3mnylm0000gn/T/ipykernel_41469/1650186797.py:28: DeprecationWarning: `np.int` is a deprecated alias for the builtin `int`. To silence this warning, use `int` by itself. Doing this will not modify any behavior and is safe. When replacing `np.int`, you may wish to use e.g. `np.int64` or `np.int32` to specify the precision. If you wish to review your current use, check the release note link for additional information.\n",
      "Deprecated in NumPy 1.20; for more details and guidance: https://numpy.org/devdocs/release/1.20.0-notes.html#deprecations\n",
      "  AP_mean_array = np.full(shape=1569500,fill_value=AP_mean, dtype=np.int)\n",
      "/var/folders/3f/jf0vyw7d5dz_ypqzwp3mnylm0000gn/T/ipykernel_41469/1650186797.py:38: DeprecationWarning: `np.int` is a deprecated alias for the builtin `int`. To silence this warning, use `int` by itself. Doing this will not modify any behavior and is safe. When replacing `np.int`, you may wish to use e.g. `np.int64` or `np.int32` to specify the precision. If you wish to review your current use, check the release note link for additional information.\n",
      "Deprecated in NumPy 1.20; for more details and guidance: https://numpy.org/devdocs/release/1.20.0-notes.html#deprecations\n",
      "  V_mean_array = np.full(shape=1569500,fill_value=V_mean, dtype=np.int)\n",
      "/var/folders/3f/jf0vyw7d5dz_ypqzwp3mnylm0000gn/T/ipykernel_41469/1650186797.py:18: DeprecationWarning: `np.int` is a deprecated alias for the builtin `int`. To silence this warning, use `int` by itself. Doing this will not modify any behavior and is safe. When replacing `np.int`, you may wish to use e.g. `np.int64` or `np.int32` to specify the precision. If you wish to review your current use, check the release note link for additional information.\n",
      "Deprecated in NumPy 1.20; for more details and guidance: https://numpy.org/devdocs/release/1.20.0-notes.html#deprecations\n",
      "  ML_mean_array = np.full(shape=1569500,fill_value=ML_mean, dtype=np.int)\n",
      "/var/folders/3f/jf0vyw7d5dz_ypqzwp3mnylm0000gn/T/ipykernel_41469/1650186797.py:28: DeprecationWarning: `np.int` is a deprecated alias for the builtin `int`. To silence this warning, use `int` by itself. Doing this will not modify any behavior and is safe. When replacing `np.int`, you may wish to use e.g. `np.int64` or `np.int32` to specify the precision. If you wish to review your current use, check the release note link for additional information.\n",
      "Deprecated in NumPy 1.20; for more details and guidance: https://numpy.org/devdocs/release/1.20.0-notes.html#deprecations\n",
      "  AP_mean_array = np.full(shape=1569500,fill_value=AP_mean, dtype=np.int)\n",
      "/var/folders/3f/jf0vyw7d5dz_ypqzwp3mnylm0000gn/T/ipykernel_41469/1650186797.py:38: DeprecationWarning: `np.int` is a deprecated alias for the builtin `int`. To silence this warning, use `int` by itself. Doing this will not modify any behavior and is safe. When replacing `np.int`, you may wish to use e.g. `np.int64` or `np.int32` to specify the precision. If you wish to review your current use, check the release note link for additional information.\n",
      "Deprecated in NumPy 1.20; for more details and guidance: https://numpy.org/devdocs/release/1.20.0-notes.html#deprecations\n",
      "  V_mean_array = np.full(shape=1569500,fill_value=V_mean, dtype=np.int)\n",
      "/var/folders/3f/jf0vyw7d5dz_ypqzwp3mnylm0000gn/T/ipykernel_41469/1650186797.py:18: DeprecationWarning: `np.int` is a deprecated alias for the builtin `int`. To silence this warning, use `int` by itself. Doing this will not modify any behavior and is safe. When replacing `np.int`, you may wish to use e.g. `np.int64` or `np.int32` to specify the precision. If you wish to review your current use, check the release note link for additional information.\n",
      "Deprecated in NumPy 1.20; for more details and guidance: https://numpy.org/devdocs/release/1.20.0-notes.html#deprecations\n",
      "  ML_mean_array = np.full(shape=1569500,fill_value=ML_mean, dtype=np.int)\n",
      "/var/folders/3f/jf0vyw7d5dz_ypqzwp3mnylm0000gn/T/ipykernel_41469/1650186797.py:28: DeprecationWarning: `np.int` is a deprecated alias for the builtin `int`. To silence this warning, use `int` by itself. Doing this will not modify any behavior and is safe. When replacing `np.int`, you may wish to use e.g. `np.int64` or `np.int32` to specify the precision. If you wish to review your current use, check the release note link for additional information.\n",
      "Deprecated in NumPy 1.20; for more details and guidance: https://numpy.org/devdocs/release/1.20.0-notes.html#deprecations\n",
      "  AP_mean_array = np.full(shape=1569500,fill_value=AP_mean, dtype=np.int)\n",
      "/var/folders/3f/jf0vyw7d5dz_ypqzwp3mnylm0000gn/T/ipykernel_41469/1650186797.py:38: DeprecationWarning: `np.int` is a deprecated alias for the builtin `int`. To silence this warning, use `int` by itself. Doing this will not modify any behavior and is safe. When replacing `np.int`, you may wish to use e.g. `np.int64` or `np.int32` to specify the precision. If you wish to review your current use, check the release note link for additional information.\n",
      "Deprecated in NumPy 1.20; for more details and guidance: https://numpy.org/devdocs/release/1.20.0-notes.html#deprecations\n",
      "  V_mean_array = np.full(shape=1569500,fill_value=V_mean, dtype=np.int)\n",
      "/var/folders/3f/jf0vyw7d5dz_ypqzwp3mnylm0000gn/T/ipykernel_41469/1650186797.py:18: DeprecationWarning: `np.int` is a deprecated alias for the builtin `int`. To silence this warning, use `int` by itself. Doing this will not modify any behavior and is safe. When replacing `np.int`, you may wish to use e.g. `np.int64` or `np.int32` to specify the precision. If you wish to review your current use, check the release note link for additional information.\n",
      "Deprecated in NumPy 1.20; for more details and guidance: https://numpy.org/devdocs/release/1.20.0-notes.html#deprecations\n",
      "  ML_mean_array = np.full(shape=1569500,fill_value=ML_mean, dtype=np.int)\n",
      "/var/folders/3f/jf0vyw7d5dz_ypqzwp3mnylm0000gn/T/ipykernel_41469/1650186797.py:28: DeprecationWarning: `np.int` is a deprecated alias for the builtin `int`. To silence this warning, use `int` by itself. Doing this will not modify any behavior and is safe. When replacing `np.int`, you may wish to use e.g. `np.int64` or `np.int32` to specify the precision. If you wish to review your current use, check the release note link for additional information.\n",
      "Deprecated in NumPy 1.20; for more details and guidance: https://numpy.org/devdocs/release/1.20.0-notes.html#deprecations\n",
      "  AP_mean_array = np.full(shape=1569500,fill_value=AP_mean, dtype=np.int)\n",
      "/var/folders/3f/jf0vyw7d5dz_ypqzwp3mnylm0000gn/T/ipykernel_41469/1650186797.py:38: DeprecationWarning: `np.int` is a deprecated alias for the builtin `int`. To silence this warning, use `int` by itself. Doing this will not modify any behavior and is safe. When replacing `np.int`, you may wish to use e.g. `np.int64` or `np.int32` to specify the precision. If you wish to review your current use, check the release note link for additional information.\n",
      "Deprecated in NumPy 1.20; for more details and guidance: https://numpy.org/devdocs/release/1.20.0-notes.html#deprecations\n",
      "  V_mean_array = np.full(shape=1569500,fill_value=V_mean, dtype=np.int)\n"
     ]
    }
   ],
   "source": [
    "# Create a loop that runs the model, creates reconstructed datasets, calculates mse and adds it to our dataset\n",
    "\n",
    "for i in range(4, 22, 2):\n",
    "    \n",
    "    # fit the model and create reconstructed dataset\n",
    "    mfpca = MFPCA(n_components = [i, i, i])\n",
    "    mfpca.fit(GRF, method='NumInt')\n",
    "    GRF_reconst = mfpca.inverse_transform(mfpca.transform(GRF))\n",
    "\n",
    "    # create ML_GRF reconstructed and original data array\n",
    "    ML_GRF_reconst = pd.DataFrame(GRF_reconst[0].values)\n",
    "    ML_GRF_reconst_array = ML_GRF_reconst.values.flatten()\n",
    "\n",
    "    ML_GRF_df = pd.DataFrame(ML_GRF_stance_N.values)\n",
    "    ML_GRF_array = ML_GRF_df.values.flatten()\n",
    "    \n",
    "    ML_mean = sum(ML_GRF_array)/len(ML_GRF_array)\n",
    "    ML_mean_array = np.full(shape=1569500,fill_value=ML_mean)\n",
    "    \n",
    "    # create AP_GRF reconstructed and original data array\n",
    "    AP_GRF_reconst = pd.DataFrame(GRF_reconst[1].values)\n",
    "    AP_GRF_reconst_array = AP_GRF_reconst.values.flatten()\n",
    "\n",
    "    AP_GRF_df = pd.DataFrame(AP_GRF_stance_N.values)\n",
    "    AP_GRF_array = AP_GRF_df.values.flatten()\n",
    "    \n",
    "    AP_mean = sum(AP_GRF_array)/len(AP_GRF_array)\n",
    "    AP_mean_array = np.full(shape=1569500,fill_value=AP_mean)\n",
    "    \n",
    "    # create V_GRF reconstructed and original data array\n",
    "    V_GRF_reconst = pd.DataFrame(GRF_reconst[2].values)\n",
    "    V_GRF_reconst_array = V_GRF_reconst.values.flatten()\n",
    "\n",
    "    V_GRF_df = pd.DataFrame(V_GRF_stance_N.values)\n",
    "    V_GRF_array = V_GRF_df.values.flatten()\n",
    "    \n",
    "    V_mean = sum(V_GRF_array)/len(V_GRF_array)\n",
    "    V_mean_array = np.full(shape=1569500,fill_value=V_mean)\n",
    "\n",
    "    # Calculate mean\n",
    "\n",
    "    ML_GRF_mean = round(mse(ML_GRF_array, ML_GRF_reconst_array), 2)\n",
    "    AP_GRF_mean = round(mse(AP_GRF_array, AP_GRF_reconst_array), 2)\n",
    "    V_GRF_mean = round(mse(V_GRF_array, V_GRF_reconst_array), 2)\n",
    "\n",
    "    # Calculate TSS\n",
    "\n",
    "    ML_TSS = round(mse(ML_GRF_array, ML_mean_array), 2)\n",
    "    AP_TSS = round(mse(AP_GRF_array, AP_mean_array), 2)\n",
    "    V_TSS = round(mse(V_GRF_array, V_mean_array), 2)    \n",
    "    \n",
    "    # Store the values in the dataframe\n",
    "    \n",
    "    new = pd.DataFrame({'Components' : [i],\n",
    "                          'MSE_ML': [ML_GRF_mean],\n",
    "                          'MSE_AP': [AP_GRF_mean],\n",
    "                          'MSE_V': [V_GRF_mean],\n",
    "                          'TSS_ML': [ML_TSS],\n",
    "                          'TSS_AP': [AP_TSS],\n",
    "                          'TSS_V': [V_TSS]\n",
    "                         })\n",
    "    \n",
    "    mse_GRF = pd.concat([mse_GRF, new])\n"
   ]
  },
  {
   "cell_type": "code",
   "execution_count": 132,
   "metadata": {},
   "outputs": [],
   "source": [
    "mse_GRF['R_ML'] = round(1 - (mse_GRF['MSE_ML']/mse_GRF['TSS_ML']), 2)\n",
    "mse_GRF['R_AP'] = round(1 - (mse_GRF['MSE_AP']/mse_GRF['TSS_AP']), 2)\n",
    "mse_GRF['R_V'] = round(1 - (mse_GRF['MSE_V']/mse_GRF['TSS_V']), 2)"
   ]
  },
  {
   "cell_type": "code",
   "execution_count": 134,
   "metadata": {},
   "outputs": [],
   "source": [
    "# Save the dataset\n",
    "\n",
    "mse_GRF.to_csv('/Users/zarawaheed/Documents/BostonUniversity/MA679/Final Project/Data/Processed/Tables/MFPCA_mse.csv')\n",
    "#mse_GRF2.to_csv('/Users/zarawaheed/Documents/BostonUniversity/MA679/Final Project/Data/Processed/Tables/MFPCA_mse_combined.csv')"
   ]
  },
  {
   "cell_type": "code",
   "execution_count": null,
   "metadata": {},
   "outputs": [],
   "source": []
  }
 ],
 "metadata": {
  "kernelspec": {
   "display_name": "Python 3 (ipykernel)",
   "language": "python",
   "name": "python3"
  },
  "language_info": {
   "codemirror_mode": {
    "name": "ipython",
    "version": 3
   },
   "file_extension": ".py",
   "mimetype": "text/x-python",
   "name": "python",
   "nbconvert_exporter": "python",
   "pygments_lexer": "ipython3",
   "version": "3.9.5"
  }
 },
 "nbformat": 4,
 "nbformat_minor": 1
}
