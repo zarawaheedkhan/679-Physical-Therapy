{
 "cells": [
  {
   "cell_type": "markdown",
   "id": "6711495b",
   "metadata": {},
   "source": [
    "I set all of the `enc_shape = es` for every instance of the autoencoder. So just set `es=2, es=4`... to get all of the autoencoders."
   ]
  },
  {
   "cell_type": "code",
   "execution_count": 31,
   "id": "20f19b17",
   "metadata": {},
   "outputs": [],
   "source": [
    "es = 2"
   ]
  },
  {
   "cell_type": "markdown",
   "id": "59307baa",
   "metadata": {},
   "source": [
    "https://github.com/techshot25/Autoencoders/blob/master/simple-autoencoder.ipynb\n",
    "This simple code shows you how to make an autoencoder using Pytorch. The idea is to bring down the number of dimensions (or reduce the feature space) using neural networks.\n",
    "\n",
    "The idea is simple, let the neural network learn how to make the encoder and the decoder using the feature space as both the input and the output of the network."
   ]
  },
  {
   "cell_type": "markdown",
   "id": "2df9878b",
   "metadata": {},
   "source": [
    "### Import relevant packages"
   ]
  },
  {
   "cell_type": "code",
   "execution_count": 32,
   "id": "5ce10352",
   "metadata": {
    "scrolled": true
   },
   "outputs": [],
   "source": [
    "import torch\n",
    "from torch import nn, optim\n",
    "import numpy as np\n",
    "from matplotlib import pyplot as plt\n",
    "import mpl_toolkits.mplot3d.axes3d as p3\n",
    "from sklearn.preprocessing import MinMaxScaler\n",
    "\n",
    "import pandas as pd"
   ]
  },
  {
   "cell_type": "code",
   "execution_count": 33,
   "id": "c5829b41",
   "metadata": {},
   "outputs": [],
   "source": [
    "import cython \n",
    "\n",
    "import skfda\n",
    "import matplotlib.pyplot as plt\n",
    "import pandas as pd\n",
    "import numpy as np\n",
    "import seaborn as sns\n",
    "\n",
    "from skfda.exploratory.depth import ModifiedBandDepth, IntegratedDepth\n",
    "from skfda.exploratory.visualization import Boxplot\n",
    "\n",
    "from skfda.exploratory.visualization.clustering import (\n",
    "    ClusterMembershipLinesPlot,\n",
    "    ClusterMembershipPlot,\n",
    "    ClusterPlot,\n",
    ")\n",
    "from skfda.ml.clustering import FuzzyCMeans, KMeans\n",
    "\n",
    "from skfda.exploratory.visualization import FPCAPlot\n",
    "from skfda.preprocessing.dim_reduction.feature_extraction import FPCA\n",
    "from skfda.representation.basis import BSpline, Fourier, Monomial"
   ]
  },
  {
   "cell_type": "markdown",
   "id": "1ae0db15",
   "metadata": {},
   "source": [
    "### Read in data"
   ]
  },
  {
   "cell_type": "code",
   "execution_count": 34,
   "id": "6262a3b1",
   "metadata": {},
   "outputs": [],
   "source": [
    "X = pd.read_csv('Data/ML_GRF_stance_N.csv').values"
   ]
  },
  {
   "cell_type": "code",
   "execution_count": 35,
   "id": "6d986212",
   "metadata": {},
   "outputs": [],
   "source": [
    "Y = pd.read_csv('Data/AP_GRF_stance_N.csv').values"
   ]
  },
  {
   "cell_type": "code",
   "execution_count": 36,
   "id": "8362d3c0",
   "metadata": {},
   "outputs": [],
   "source": [
    "Z = pd.read_csv('Data/V_GRF_stance_N.csv').values"
   ]
  },
  {
   "cell_type": "markdown",
   "id": "2276b459",
   "metadata": {},
   "source": [
    "### Define functions and build Autoencoder"
   ]
  },
  {
   "cell_type": "code",
   "execution_count": 37,
   "id": "a3db8e11",
   "metadata": {},
   "outputs": [],
   "source": [
    "class Autoencoder(nn.Module):\n",
    "    \"\"\"Makes the main denoising auto\n",
    "\n",
    "    Parameters\n",
    "    ----------\n",
    "    in_shape [int] : input shape\n",
    "    enc_shape [int] : desired encoded shape\n",
    "    \"\"\"\n",
    "\n",
    "    def __init__(self, in_shape, enc_shape):\n",
    "        super(Autoencoder, self).__init__()\n",
    "        \n",
    "        self.encode = nn.Sequential(\n",
    "            nn.Linear(in_shape, 128), #first layer\n",
    "            nn.ReLU(True),\n",
    "            nn.Dropout(0.2), #regularization\n",
    "            nn.Linear(128, 64), #second layer\n",
    "            nn.ReLU(True),\n",
    "            nn.Dropout(0.2),\n",
    "            nn.Linear(64, enc_shape), #layer to encoded data\n",
    "        )\n",
    "        \n",
    "        self.decode = nn.Sequential( #reverse of encoder\n",
    "            nn.BatchNorm1d(enc_shape),\n",
    "            nn.Linear(enc_shape, 64),\n",
    "            nn.ReLU(True),\n",
    "            nn.Dropout(0.2),\n",
    "            nn.Linear(64, 128),\n",
    "            nn.ReLU(True),\n",
    "            nn.Dropout(0.2),\n",
    "            nn.Linear(128, in_shape)\n",
    "        )\n",
    "        \n",
    "    def forward(self, x):\n",
    "        x = self.encode(x)\n",
    "        x = self.decode(x)\n",
    "        return x"
   ]
  },
  {
   "cell_type": "code",
   "execution_count": 38,
   "id": "82f146fa",
   "metadata": {},
   "outputs": [],
   "source": [
    "def train(model, error, optimizer, n_epochs, x):\n",
    "    model.train()\n",
    "    for epoch in range(1, n_epochs + 1):\n",
    "        optimizer.zero_grad()\n",
    "        output = model(x)\n",
    "        loss = error(output, x)\n",
    "        loss.backward()\n",
    "        optimizer.step()\n",
    "        \n",
    "        if epoch % int(0.1*n_epochs) == 0: #prints occasional updates\n",
    "            print(f'epoch {epoch} \\t Loss: {loss.item():.4g}')"
   ]
  },
  {
   "cell_type": "code",
   "execution_count": 39,
   "id": "e7210538",
   "metadata": {},
   "outputs": [],
   "source": [
    "#Defining a list of grid points\n",
    "grid_points_100 = list(range(1,101))\n",
    "grid_points_2990 = list(range(1,2991))"
   ]
  },
  {
   "cell_type": "code",
   "execution_count": 40,
   "id": "4ba75a6a",
   "metadata": {},
   "outputs": [],
   "source": [
    "ne = 1000 #number of epochs"
   ]
  },
  {
   "cell_type": "markdown",
   "id": "cf2dd2b6",
   "metadata": {},
   "source": [
    "#### 1. GRF_ML"
   ]
  },
  {
   "cell_type": "code",
   "execution_count": 41,
   "id": "82a215f3",
   "metadata": {},
   "outputs": [],
   "source": [
    "device_x = ('cuda' if torch.cuda.is_available() else 'cpu') # gpu"
   ]
  },
  {
   "cell_type": "code",
   "execution_count": 42,
   "id": "1fd37a25",
   "metadata": {},
   "outputs": [],
   "source": [
    "x = torch.from_numpy(X).to(device_x) #torch format of data"
   ]
  },
  {
   "cell_type": "code",
   "execution_count": 43,
   "id": "977f839a",
   "metadata": {},
   "outputs": [],
   "source": [
    "encoder_x = Autoencoder(in_shape=100, enc_shape=es).double().to(device_x)\n",
    "\n",
    "error_x = nn.MSELoss()\n",
    "\n",
    "optimizer_x = optim.Adam(encoder_x.parameters())"
   ]
  },
  {
   "cell_type": "code",
   "execution_count": 44,
   "id": "354325f6",
   "metadata": {},
   "outputs": [
    {
     "name": "stdout",
     "output_type": "stream",
     "text": [
      "epoch 100 \t Loss: 154\n",
      "epoch 200 \t Loss: 133\n",
      "epoch 300 \t Loss: 119.1\n",
      "epoch 400 \t Loss: 110.2\n",
      "epoch 500 \t Loss: 106.3\n",
      "epoch 600 \t Loss: 104\n",
      "epoch 700 \t Loss: 101.9\n",
      "epoch 800 \t Loss: 100.9\n",
      "epoch 900 \t Loss: 98.27\n",
      "epoch 1000 \t Loss: 97.73\n"
     ]
    }
   ],
   "source": [
    "train(encoder_x, error_x, optimizer_x, ne, x)"
   ]
  },
  {
   "cell_type": "code",
   "execution_count": 45,
   "id": "597a3bbe",
   "metadata": {},
   "outputs": [],
   "source": [
    "with torch.no_grad():\n",
    "    encoded_x = encoder_x.encode(x)\n",
    "    decoded_x = encoder_x.decode(encoded_x)\n",
    "    mse_x = error_x(decoded_x, x).item()\n",
    "    enc_x = encoded_x.cpu().detach().numpy()\n",
    "    dec_x = decoded_x.cpu().detach().numpy()"
   ]
  },
  {
   "cell_type": "markdown",
   "id": "89750d2a",
   "metadata": {},
   "source": [
    "#### 2. GRF_AP"
   ]
  },
  {
   "cell_type": "code",
   "execution_count": 46,
   "id": "aa160afd",
   "metadata": {},
   "outputs": [],
   "source": [
    "device_y = ('cuda' if torch.cuda.is_available() else 'cpu')"
   ]
  },
  {
   "cell_type": "code",
   "execution_count": 47,
   "id": "b23787e6",
   "metadata": {},
   "outputs": [],
   "source": [
    "y = torch.from_numpy(Y).to(device_y)"
   ]
  },
  {
   "cell_type": "code",
   "execution_count": 48,
   "id": "5db5813e",
   "metadata": {},
   "outputs": [],
   "source": [
    "encoder_y = Autoencoder(in_shape=100, enc_shape=es).double().to(device_y)\n",
    "\n",
    "error_y = nn.MSELoss()\n",
    "\n",
    "optimizer_y = optim.Adam(encoder_y.parameters())"
   ]
  },
  {
   "cell_type": "code",
   "execution_count": 49,
   "id": "c7f1486f",
   "metadata": {},
   "outputs": [
    {
     "name": "stdout",
     "output_type": "stream",
     "text": [
      "epoch 100 \t Loss: 1422\n",
      "epoch 200 \t Loss: 439.3\n",
      "epoch 300 \t Loss: 397.5\n",
      "epoch 400 \t Loss: 375.7\n",
      "epoch 500 \t Loss: 363.1\n",
      "epoch 600 \t Loss: 355.6\n",
      "epoch 700 \t Loss: 347.4\n",
      "epoch 800 \t Loss: 345.4\n",
      "epoch 900 \t Loss: 341.6\n",
      "epoch 1000 \t Loss: 335.9\n"
     ]
    }
   ],
   "source": [
    "train(encoder_y, error_y, optimizer_y, ne, y)"
   ]
  },
  {
   "cell_type": "code",
   "execution_count": 50,
   "id": "b0b50a59",
   "metadata": {},
   "outputs": [],
   "source": [
    "with torch.no_grad():\n",
    "    encoded_y = encoder_y.encode(y)\n",
    "    decoded_y = encoder_y.decode(encoded_y)\n",
    "    mse_y = error_y(decoded_y, y).item()\n",
    "    enc_y = encoded_y.cpu().detach().numpy()\n",
    "    dec_y = decoded_y.cpu().detach().numpy()"
   ]
  },
  {
   "cell_type": "markdown",
   "id": "6d4e2763",
   "metadata": {},
   "source": [
    "#### 3. GRF_V"
   ]
  },
  {
   "cell_type": "code",
   "execution_count": 51,
   "id": "d42c317a",
   "metadata": {},
   "outputs": [],
   "source": [
    "device_z = ('cuda' if torch.cuda.is_available() else 'cpu')"
   ]
  },
  {
   "cell_type": "code",
   "execution_count": 52,
   "id": "f63435bd",
   "metadata": {},
   "outputs": [],
   "source": [
    "z = torch.from_numpy(Z).to(device_z)"
   ]
  },
  {
   "cell_type": "code",
   "execution_count": 53,
   "id": "0a7c054d",
   "metadata": {},
   "outputs": [],
   "source": [
    "encoder_z = Autoencoder(in_shape=100, enc_shape=es).double().to(device_z)\n",
    "\n",
    "error_z = nn.MSELoss()\n",
    "\n",
    "optimizer_z = optim.Adam(encoder_z.parameters())"
   ]
  },
  {
   "cell_type": "code",
   "execution_count": 54,
   "id": "60a639d6",
   "metadata": {},
   "outputs": [
    {
     "name": "stdout",
     "output_type": "stream",
     "text": [
      "epoch 100 \t Loss: 3.744e+05\n",
      "epoch 200 \t Loss: 3.901e+04\n",
      "epoch 300 \t Loss: 1.72e+04\n",
      "epoch 400 \t Loss: 1.473e+04\n",
      "epoch 500 \t Loss: 1.318e+04\n",
      "epoch 600 \t Loss: 1.207e+04\n",
      "epoch 700 \t Loss: 1.147e+04\n",
      "epoch 800 \t Loss: 1.147e+04\n",
      "epoch 900 \t Loss: 1.127e+04\n",
      "epoch 1000 \t Loss: 1.122e+04\n"
     ]
    }
   ],
   "source": [
    "train(encoder_z, error_z, optimizer_z, ne, z)"
   ]
  },
  {
   "cell_type": "code",
   "execution_count": 55,
   "id": "d0e947be",
   "metadata": {},
   "outputs": [],
   "source": [
    "with torch.no_grad():\n",
    "    encoded_z = encoder_z.encode(z)\n",
    "    decoded_z = encoder_z.decode(encoded_z)\n",
    "    mse_z = error_z(decoded_z, z).item()\n",
    "    enc_z = encoded_z.cpu().detach().numpy()\n",
    "    dec_z = decoded_z.cpu().detach().numpy()"
   ]
  },
  {
   "cell_type": "markdown",
   "id": "55e8f6e8",
   "metadata": {},
   "source": [
    "### Calculate the MSE and R^2"
   ]
  },
  {
   "cell_type": "code",
   "execution_count": 56,
   "id": "780ecb1e",
   "metadata": {},
   "outputs": [],
   "source": [
    "# Define function for MSE and TSS\n",
    "\n",
    "def mse(array1,array2):\n",
    "    diff = array1 - array2\n",
    "    sqdiff = diff**2\n",
    "    n = len(sqdiff)\n",
    "    \n",
    "    sum_sqdiff = sum(sqdiff)\n",
    "    return sum_sqdiff/n\n",
    "\n",
    "def tss(array):\n",
    "    mean = sum(array)/len(array)\n",
    "    diff = array-mean\n",
    "    sqdiff = diff**2\n",
    "    \n",
    "    sum_sqdiff = sum(sqdiff)\n",
    "    n = len(sqdiff)\n",
    "    return sum_sqdiff/n"
   ]
  },
  {
   "cell_type": "code",
   "execution_count": 57,
   "id": "a27c3c6d",
   "metadata": {},
   "outputs": [],
   "source": [
    "# GRF_ML\n",
    "\n",
    "ML_GRF_reconst_array = dec_x.flatten()\n",
    "ML_GRF_array = X.flatten()"
   ]
  },
  {
   "cell_type": "code",
   "execution_count": 58,
   "id": "8836bf4d",
   "metadata": {},
   "outputs": [
    {
     "data": {
      "text/plain": [
       "97.69639251181304"
      ]
     },
     "execution_count": 58,
     "metadata": {},
     "output_type": "execute_result"
    }
   ],
   "source": [
    "mse(ML_GRF_array, ML_GRF_reconst_array)"
   ]
  },
  {
   "cell_type": "code",
   "execution_count": 59,
   "id": "cf8029c3",
   "metadata": {},
   "outputs": [
    {
     "data": {
      "text/plain": [
       "650.5593725077975"
      ]
     },
     "execution_count": 59,
     "metadata": {},
     "output_type": "execute_result"
    }
   ],
   "source": [
    "tss(ML_GRF_array)"
   ]
  },
  {
   "cell_type": "code",
   "execution_count": 60,
   "id": "161c5c55",
   "metadata": {},
   "outputs": [
    {
     "data": {
      "text/plain": [
       "0.8498270924370672"
      ]
     },
     "execution_count": 60,
     "metadata": {},
     "output_type": "execute_result"
    }
   ],
   "source": [
    "1 - mse(ML_GRF_array, ML_GRF_reconst_array) / tss(ML_GRF_array) #R^2"
   ]
  },
  {
   "cell_type": "code",
   "execution_count": 61,
   "id": "eed219ad",
   "metadata": {},
   "outputs": [],
   "source": [
    "# GRF_AP\n",
    "\n",
    "AP_GRF_reconst_array = dec_y.flatten()\n",
    "AP_GRF_array = Y.flatten()"
   ]
  },
  {
   "cell_type": "code",
   "execution_count": 62,
   "id": "6e27b583",
   "metadata": {},
   "outputs": [
    {
     "data": {
      "text/plain": [
       "338.5910212445489"
      ]
     },
     "execution_count": 62,
     "metadata": {},
     "output_type": "execute_result"
    }
   ],
   "source": [
    "mse(AP_GRF_array, AP_GRF_reconst_array)"
   ]
  },
  {
   "cell_type": "code",
   "execution_count": 63,
   "id": "1333f0ec",
   "metadata": {},
   "outputs": [
    {
     "data": {
      "text/plain": [
       "6962.256273233199"
      ]
     },
     "execution_count": 63,
     "metadata": {},
     "output_type": "execute_result"
    }
   ],
   "source": [
    "tss(AP_GRF_array)"
   ]
  },
  {
   "cell_type": "code",
   "execution_count": 64,
   "id": "ddd54c95",
   "metadata": {},
   "outputs": [
    {
     "data": {
      "text/plain": [
       "0.9513676302686125"
      ]
     },
     "execution_count": 64,
     "metadata": {},
     "output_type": "execute_result"
    }
   ],
   "source": [
    "1 - mse(AP_GRF_array, AP_GRF_reconst_array) / tss(AP_GRF_array)"
   ]
  },
  {
   "cell_type": "code",
   "execution_count": 65,
   "id": "ea2645cc",
   "metadata": {},
   "outputs": [],
   "source": [
    "# GRF_V\n",
    "\n",
    "V_GRF_reconst_array = dec_z.flatten()\n",
    "V_GRF_array = Z.flatten()"
   ]
  },
  {
   "cell_type": "code",
   "execution_count": 66,
   "id": "8b7bc184",
   "metadata": {},
   "outputs": [
    {
     "data": {
      "text/plain": [
       "11327.560888904909"
      ]
     },
     "execution_count": 66,
     "metadata": {},
     "output_type": "execute_result"
    }
   ],
   "source": [
    "mse(V_GRF_array, V_GRF_reconst_array)"
   ]
  },
  {
   "cell_type": "code",
   "execution_count": 67,
   "id": "53d2c097",
   "metadata": {},
   "outputs": [
    {
     "data": {
      "text/plain": [
       "82652.02564908114"
      ]
     },
     "execution_count": 67,
     "metadata": {},
     "output_type": "execute_result"
    }
   ],
   "source": [
    "tss(V_GRF_array)"
   ]
  },
  {
   "cell_type": "code",
   "execution_count": 68,
   "id": "92262207",
   "metadata": {
    "scrolled": true
   },
   "outputs": [
    {
     "data": {
      "text/plain": [
       "0.8629487807473859"
      ]
     },
     "execution_count": 68,
     "metadata": {},
     "output_type": "execute_result"
    }
   ],
   "source": [
    "1 - mse(V_GRF_array, V_GRF_reconst_array) / tss(V_GRF_array)"
   ]
  },
  {
   "cell_type": "markdown",
   "id": "20d217c4",
   "metadata": {},
   "source": [
    "# Reconstruction plots"
   ]
  },
  {
   "cell_type": "code",
   "execution_count": 88,
   "id": "3dd647bc",
   "metadata": {},
   "outputs": [
    {
     "name": "stderr",
     "output_type": "stream",
     "text": [
      " /var/folders/4n/dzd_1x9s62d8myltjrt6k1l80000gn/T/ipykernel_75891/2315148433.py:26: UserWarning:Matplotlib is currently using module://matplotlib_inline.backend_inline, which is a non-GUI backend, so cannot show the figure.\n"
     ]
    },
    {
     "data": {
      "image/png": "[encoded data removed]",
      "text/plain": [
       "<Figure size 432x288 with 1 Axes>"
      ]
     },
     "metadata": {
      "needs_background": "light"
     },
     "output_type": "display_data"
    }
   ],
   "source": [
    "from matplotlib.lines import Line2D\n",
    "\n",
    "MLGRF_recon = []\n",
    "recon = []\n",
    "comb_fd = []\n",
    "orig = ML_GRF_stance_N_fd[10].data_matrix[0,:,:]\n",
    "# for i in range(5):\n",
    "\n",
    "i = 0\n",
    "\n",
    "MLGRF_recon.append(skfda.FDataGrid(data_matrix=recon_VAE[i,:,:],grid_points=grid_points_100))\n",
    "recon.append(MLGRF_recon[i][10].data_matrix[0,:,:])\n",
    "new = np.zeros((5,2,100,1))\n",
    "new[i,0,:,:] = recon[i]\n",
    "new[i,1,:,:] = orig\n",
    "comb_temp = skfda.FDataGrid(data_matrix=new[i,:,:,:],grid_points=grid_points_100)\n",
    "comb_fd.append(comb_temp)\n",
    "    \n",
    "    \n",
    "    \n",
    "titles = ['MLGRF: 2 dims','MLGRF: 4 dims','MLGRF: 6 dims','MLGRF: 8 dims','MLGRF: 10 dims']\n",
    "legend_elements = [Line2D([0], [0], label='Reconstructed'), \n",
    "                   Line2D([0], [0], color='orange', label='Original')]\n",
    "file_names = ['Plots/AE_ML_GRF_2comp.png', 'Plots/AE_ML_GRF_4comp.png', 'Plots/AE_ML_GRF_6comp.png', \n",
    "             'Plots/AE_ML_GRF_8comp.png', 'Plots/AE_ML_GRF_10comp.png']\n",
    "# for i in range(5):\n",
    "fig = comb_fd[i].plot()\n",
    "fig.show()\n",
    "plt.title(titles[i])\n",
    "plt.xlabel(\"Time\")\n",
    "plt.ylabel(\"ML_GRF\")\n",
    "plt.legend(handles = legend_elements)\n",
    "\n",
    "fig.savefig(file_names[i], dpi=300)"
   ]
  },
  {
   "cell_type": "code",
   "execution_count": null,
   "id": "76ea931b",
   "metadata": {},
   "outputs": [],
   "source": [
    "mse = np.zeros(5)\n",
    "tss = np.zeros(5)\n",
    "r2 = np.zeros(5)\n",
    "for i in range(5):\n",
    "    mse[i] = np.mean((recon_AE[i,10,:] - AP_GRF_stance_N_matrix[10,:])**2)\n",
    "    tss[i] = np.mean((AP_GRF_stance_N_matrix[10,:] - AP_GRF_stance_N_mean_array[0,:])**2)\n",
    "    r2[i] = 1-mse[i]/tss[i]"
   ]
  }
 ],
 "metadata": {
  "kernelspec": {
   "display_name": "Python 3 (ipykernel)",
   "language": "python",
   "name": "python3"
  },
  "language_info": {
   "codemirror_mode": {
    "name": "ipython",
    "version": 3
   },
   "file_extension": ".py",
   "mimetype": "text/x-python",
   "name": "python",
   "nbconvert_exporter": "python",
   "pygments_lexer": "ipython3",
   "version": "3.10.4"
  }
 },
 "nbformat": 4,
 "nbformat_minor": 5
}
